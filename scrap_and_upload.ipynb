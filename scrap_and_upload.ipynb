{
 "cells": [
  {
   "cell_type": "code",
   "execution_count": 6,
   "id": "resistant-exercise",
   "metadata": {},
   "outputs": [],
   "source": [
    "import requests\n",
    "import pandas as pd\n",
    "import json\n",
    "import os\n",
    "import logging\n",
    "import boto3\n",
    "from botocore.exceptions import ClientError\n"
   ]
  },
  {
   "cell_type": "code",
   "execution_count": 23,
   "id": "christian-anger",
   "metadata": {},
   "outputs": [],
   "source": [
    "def get_data(url, month, days):\n",
    "    data = None\n",
    "    data = requests.get(url).json()\n",
    "    \n",
    "    for i in range(2, days+1):\n",
    "        url = 'https://bank.gov.ua/NBUStatService/v1/statdirectory/exchange?date=20210{month}{i}&json'.format(month=month,i=i)\n",
    "        r = requests.get(url).json()\n",
    "        data += r\n",
    "        \n",
    "    return data\n",
    "    \n",
    "    "
   ]
  },
  {
   "cell_type": "code",
   "execution_count": 28,
   "id": "ignored-nightmare",
   "metadata": {},
   "outputs": [],
   "source": [
    "url = 'https://bank.gov.ua/NBUStatService/v1/statdirectory/exchange?date=20210101&json'\n",
    "month = 1\n",
    "days_jan = 31\n",
    "jan = get_data(url, month, days_jan)"
   ]
  },
  {
   "cell_type": "code",
   "execution_count": 31,
   "id": "automatic-inflation",
   "metadata": {},
   "outputs": [],
   "source": [
    "url = 'https://bank.gov.ua/NBUStatService/v1/statdirectory/exchange?date=20210201&json'\n",
    "month = 2\n",
    "days_feb = 28\n",
    "feb = get_data(url, month, days_feb)"
   ]
  },
  {
   "cell_type": "code",
   "execution_count": 35,
   "id": "acquired-thriller",
   "metadata": {},
   "outputs": [],
   "source": [
    "url = 'https://bank.gov.ua/NBUStatService/v1/statdirectory/exchange?date=20210301&json'\n",
    "month = 3\n",
    "days_mar = 24\n",
    "march = get_data(url, month, days_mar)"
   ]
  },
  {
   "cell_type": "code",
   "execution_count": 36,
   "id": "retired-details",
   "metadata": {},
   "outputs": [],
   "source": [
    "data = jan + feb + march\n",
    "df = pd.json_normalize(data)"
   ]
  },
  {
   "cell_type": "code",
   "execution_count": 49,
   "id": "worse-christianity",
   "metadata": {},
   "outputs": [],
   "source": [
    "data_csv = df.to_csv('data.csv')"
   ]
  },
  {
   "cell_type": "code",
   "execution_count": 21,
   "id": "elementary-richmond",
   "metadata": {},
   "outputs": [],
   "source": [
    "def upload_file(file_name, bucket, object_name=None):\n",
    "    \"\"\"Upload a file to an S3 bucket\n",
    "\n",
    "    :param file_name: File to upload\n",
    "    :param bucket: Bucket to upload to\n",
    "    :param object_name: S3 object name. If not specified then file_name is used\n",
    "    :return: True if file was uploaded, else False\n",
    "    \"\"\"\n",
    "\n",
    "    # If S3 object_name was not specified, use file_name\n",
    "    if object_name is None:\n",
    "        object_name = file_name\n",
    "\n",
    "    # Upload the file\n",
    "    s3_client = boto3.client('s3')\n",
    "    try:\n",
    "        response = s3_client.upload_file(file_name, bucket, object_name)\n",
    "    except ClientError as e:\n",
    "        logging.error(e)\n",
    "        return False\n",
    "    return True"
   ]
  },
  {
   "cell_type": "code",
   "execution_count": 50,
   "id": "greatest-muscle",
   "metadata": {},
   "outputs": [],
   "source": [
    "upload_file('data.csv', 'my-backet-lab2')\n",
    "os.remove(\"data.csv\")"
   ]
  },
  {
   "cell_type": "markdown",
   "id": "prime-thanks",
   "metadata": {},
   "source": [
    "# `Read from bucket`"
   ]
  },
  {
   "cell_type": "code",
   "execution_count": 12,
   "id": "documentary-defensive",
   "metadata": {},
   "outputs": [],
   "source": [
    "s3 = boto3.client('s3')\n",
    "s3.download_file('my-backet-lab2', 'data.csv', 'data.csv')"
   ]
  },
  {
   "cell_type": "code",
   "execution_count": 13,
   "id": "surprising-blake",
   "metadata": {},
   "outputs": [],
   "source": [
    "data = pd.read_csv('data.csv')"
   ]
  },
  {
   "cell_type": "markdown",
   "id": "elegant-preliminary",
   "metadata": {},
   "source": [
    "\n"
   ]
  },
  {
   "cell_type": "code",
   "execution_count": 15,
   "id": "prescription-reach",
   "metadata": {},
   "outputs": [],
   "source": [
    "new_df = data[['rate', 'cc', 'exchangedate']]"
   ]
  },
  {
   "cell_type": "code",
   "execution_count": 16,
   "id": "august-festival",
   "metadata": {},
   "outputs": [],
   "source": [
    "usd = new_df.loc[new_df['cc'] == 'USD']\n",
    "usd = usd.rename(columns={'rate': 'USD'})\n",
    "eur = new_df.loc[new_df['cc'] == 'EUR']\n",
    "eur = eur.rename(columns={'rate': 'EUR'})"
   ]
  },
  {
   "cell_type": "code",
   "execution_count": 17,
   "id": "active-concentration",
   "metadata": {},
   "outputs": [
    {
     "data": {
      "text/html": [
       "<div>\n",
       "<style scoped>\n",
       "    .dataframe tbody tr th:only-of-type {\n",
       "        vertical-align: middle;\n",
       "    }\n",
       "\n",
       "    .dataframe tbody tr th {\n",
       "        vertical-align: top;\n",
       "    }\n",
       "\n",
       "    .dataframe thead th {\n",
       "        text-align: right;\n",
       "    }\n",
       "</style>\n",
       "<table border=\"1\" class=\"dataframe\">\n",
       "  <thead>\n",
       "    <tr style=\"text-align: right;\">\n",
       "      <th></th>\n",
       "      <th>USD</th>\n",
       "      <th>cc</th>\n",
       "      <th>exchangedate</th>\n",
       "    </tr>\n",
       "  </thead>\n",
       "  <tbody>\n",
       "    <tr>\n",
       "      <th>26</th>\n",
       "      <td>28.2746</td>\n",
       "      <td>USD</td>\n",
       "      <td>01.01.2021</td>\n",
       "    </tr>\n",
       "    <tr>\n",
       "      <th>87</th>\n",
       "      <td>28.2746</td>\n",
       "      <td>USD</td>\n",
       "      <td>02.01.2021</td>\n",
       "    </tr>\n",
       "    <tr>\n",
       "      <th>148</th>\n",
       "      <td>28.2746</td>\n",
       "      <td>USD</td>\n",
       "      <td>03.01.2021</td>\n",
       "    </tr>\n",
       "    <tr>\n",
       "      <th>209</th>\n",
       "      <td>28.2746</td>\n",
       "      <td>USD</td>\n",
       "      <td>04.01.2021</td>\n",
       "    </tr>\n",
       "    <tr>\n",
       "      <th>270</th>\n",
       "      <td>28.4310</td>\n",
       "      <td>USD</td>\n",
       "      <td>05.01.2021</td>\n",
       "    </tr>\n",
       "    <tr>\n",
       "      <th>...</th>\n",
       "      <td>...</td>\n",
       "      <td>...</td>\n",
       "      <td>...</td>\n",
       "    </tr>\n",
       "    <tr>\n",
       "      <th>4784</th>\n",
       "      <td>27.6828</td>\n",
       "      <td>USD</td>\n",
       "      <td>20.03.2021</td>\n",
       "    </tr>\n",
       "    <tr>\n",
       "      <th>4845</th>\n",
       "      <td>27.6828</td>\n",
       "      <td>USD</td>\n",
       "      <td>21.03.2021</td>\n",
       "    </tr>\n",
       "    <tr>\n",
       "      <th>4906</th>\n",
       "      <td>27.7184</td>\n",
       "      <td>USD</td>\n",
       "      <td>22.03.2021</td>\n",
       "    </tr>\n",
       "    <tr>\n",
       "      <th>4967</th>\n",
       "      <td>27.6871</td>\n",
       "      <td>USD</td>\n",
       "      <td>23.03.2021</td>\n",
       "    </tr>\n",
       "    <tr>\n",
       "      <th>5028</th>\n",
       "      <td>27.7295</td>\n",
       "      <td>USD</td>\n",
       "      <td>24.03.2021</td>\n",
       "    </tr>\n",
       "  </tbody>\n",
       "</table>\n",
       "<p>83 rows × 3 columns</p>\n",
       "</div>"
      ],
      "text/plain": [
       "          USD   cc exchangedate\n",
       "26    28.2746  USD   01.01.2021\n",
       "87    28.2746  USD   02.01.2021\n",
       "148   28.2746  USD   03.01.2021\n",
       "209   28.2746  USD   04.01.2021\n",
       "270   28.4310  USD   05.01.2021\n",
       "...       ...  ...          ...\n",
       "4784  27.6828  USD   20.03.2021\n",
       "4845  27.6828  USD   21.03.2021\n",
       "4906  27.7184  USD   22.03.2021\n",
       "4967  27.6871  USD   23.03.2021\n",
       "5028  27.7295  USD   24.03.2021\n",
       "\n",
       "[83 rows x 3 columns]"
      ]
     },
     "execution_count": 17,
     "metadata": {},
     "output_type": "execute_result"
    }
   ],
   "source": [
    "usd"
   ]
  },
  {
   "cell_type": "code",
   "execution_count": 18,
   "id": "protective-sapphire",
   "metadata": {},
   "outputs": [],
   "source": [
    "import matplotlib.pyplot as plt\n",
    "from matplotlib import pyplot as plt\n"
   ]
  },
  {
   "cell_type": "code",
   "execution_count": 24,
   "id": "labeled-bicycle",
   "metadata": {},
   "outputs": [
    {
     "data": {
      "image/png": "[encoded data removed]",
      "text/plain": [
       "<Figure size 432x288 with 1 Axes>"
      ]
     },
     "metadata": {
      "needs_background": "light"
     },
     "output_type": "display_data"
    },
    {
     "data": {
      "text/plain": [
       "<Figure size 432x288 with 0 Axes>"
      ]
     },
     "metadata": {},
     "output_type": "display_data"
    }
   ],
   "source": [
    "ax = plt.gca()\n",
    "\n",
    "usd.plot(kind='line',x='exchangedate',y='USD',ax=ax)\n",
    "eur.plot(kind='line',x='exchangedate',y='EUR', color='red', ax=ax)\n",
    "\n",
    "plt.show()\n",
    "\n",
    "plt.savefig('usd_eur.png', dpi=300, bbox_inches='tight')\n",
    "plt.savefig('usd_eur.pdf', dpi=300, bbox_inches='tight')"
   ]
  },
  {
   "cell_type": "code",
   "execution_count": 26,
   "id": "phantom-waters",
   "metadata": {},
   "outputs": [
    {
     "data": {
      "text/plain": [
       "True"
      ]
     },
     "execution_count": 26,
     "metadata": {},
     "output_type": "execute_result"
    }
   ],
   "source": [
    "upload_file('usd_eur.png', 'my-backet-lab2')\n",
    "upload_file('usd_eur.pdf', 'my-backet-lab2')"
   ]
  },
  {
   "cell_type": "raw",
   "id": "lightweight-detective",
   "metadata": {},
   "source": []
  }
 ],
 "metadata": {
  "kernelspec": {
   "display_name": "Python 3",
   "language": "python",
   "name": "python3"
  },
  "language_info": {
   "codemirror_mode": {
    "name": "ipython",
    "version": 3
   },
   "file_extension": ".py",
   "mimetype": "text/x-python",
   "name": "python",
   "nbconvert_exporter": "python",
   "pygments_lexer": "ipython3",
   "version": "3.8.5"
  }
 },
 "nbformat": 4,
 "nbformat_minor": 5
}
